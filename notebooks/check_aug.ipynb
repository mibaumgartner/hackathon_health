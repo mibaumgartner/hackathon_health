{
 "cells": [
  {
   "cell_type": "code",
   "execution_count": null,
   "metadata": {},
   "outputs": [],
   "source": [
    "import argparse\n",
    "from pathlib import Path\n",
    "import pytorch_lightning as pl\n",
    "from pytorch_lightning.loggers import TensorBoardLogger\n",
    "from pytorch_lightning.callbacks import ModelCheckpoint\n",
    "\n",
    "from medhack.data_loading import BasicDataModule\n",
    "import cv2\n",
    "\n",
    "cv2.setNumThreads(0)\n",
    "cv2.ocl.setUseOpenCL(False)\n",
    "GPUS = 1\n",
    "ACCELERATOR = \"gpu\"\n",
    "PRECISION = 16\n",
    "BENCHMARK = True\n",
    "DETERMINISTIC = False\n",
    "\n",
    "TRAIN_DIR = \"/hkfs/work/workspace/scratch/im9193-H1/checkpoints\"\n",
    "ROOT_DIR = \"/hkfs/work/workspace/scratch/im9193-H1/preprocessed_data\""
   ]
  },
  {
   "cell_type": "code",
   "execution_count": null,
   "metadata": {},
   "outputs": [],
   "source": [
    "root_dir = Path(ROOT_DIR)\n",
    "datamodule = BasicDataModule(root_dir=root_dir, gpu_num=1)"
   ]
  },
  {
   "cell_type": "code",
   "execution_count": null,
   "metadata": {},
   "outputs": [],
   "source": [
    "# train_loader = datamodule.train_dataloader()\n",
    "train_loader = datamodule.val_dataloader()\n",
    "\n",
    "b = next(iter(train_loader))"
   ]
  },
  {
   "cell_type": "code",
   "execution_count": null,
   "metadata": {},
   "outputs": [],
   "source": [
    "import numpy as np\n",
    "\n",
    "i = 2\n",
    "print(b[0][i].mean())\n",
    "print(b[0][i].std())\n",
    "print(np.percentile(b[0][i].numpy(), 5))\n",
    "print(b[0][i].min())\n",
    "print(b[0][i].max())"
   ]
  },
  {
   "cell_type": "code",
   "execution_count": null,
   "metadata": {},
   "outputs": [],
   "source": [
    "from IPython.display import display\n",
    "from PIL import Image"
   ]
  },
  {
   "cell_type": "code",
   "execution_count": null,
   "metadata": {},
   "outputs": [],
   "source": [
    "import matplotlib.pyplot as plt"
   ]
  },
  {
   "cell_type": "code",
   "execution_count": null,
   "metadata": {},
   "outputs": [],
   "source": [
    "import matplotlib as mpl\n",
    "i = 31\n",
    "_img_viz = b[0][i, 0].numpy()\n",
    "_img_viz = _img_viz - _img_viz.min()\n",
    "_img_viz = _img_viz / _img_viz.max()\n",
    "plt.imshow(_img_viz, cmap=mpl.cm.gray)\n",
    "plt.colorbar()"
   ]
  },
  {
   "cell_type": "code",
   "execution_count": null,
   "metadata": {},
   "outputs": [],
   "source": [
    "b[0].mean()"
   ]
  },
  {
   "cell_type": "code",
   "execution_count": null,
   "metadata": {},
   "outputs": [],
   "source": []
  }
 ],
 "metadata": {
  "interpreter": {
   "hash": "0e69e961dc28972ad823cc4f1313c2e3ab42cb24d69999295112d96855de7134"
  },
  "kernelspec": {
   "display_name": "Python 3.8.0 64-bit ('health_baseline_conda_env': conda)",
   "language": "python",
   "name": "python3"
  },
  "language_info": {
   "codemirror_mode": {
    "name": "ipython",
    "version": 3
   },
   "file_extension": ".py",
   "mimetype": "text/x-python",
   "name": "python",
   "nbconvert_exporter": "python",
   "pygments_lexer": "ipython3",
   "version": "3.8.0"
  },
  "orig_nbformat": 4
 },
 "nbformat": 4,
 "nbformat_minor": 2
}
